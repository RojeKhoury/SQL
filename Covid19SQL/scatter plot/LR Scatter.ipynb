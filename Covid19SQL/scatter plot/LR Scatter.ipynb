{
 "cells": [
  {
   "cell_type": "code",
   "execution_count": 1,
   "metadata": {},
   "outputs": [
    {
     "data": {
      "text/html": [
       "\n",
       "        <div>\n",
       "            <p><b>SparkContext</b></p>\n",
       "\n",
       "            <p><a href=\"http://10.0.0.14:4040\">Spark UI</a></p>\n",
       "\n",
       "            <dl>\n",
       "              <dt>Version</dt>\n",
       "                <dd><code>v3.0.0-preview2</code></dd>\n",
       "              <dt>Master</dt>\n",
       "                <dd><code>local[*]</code></dd>\n",
       "              <dt>AppName</dt>\n",
       "                <dd><code>PySparkShell</code></dd>\n",
       "            </dl>\n",
       "        </div>\n",
       "        "
      ],
      "text/plain": [
       "<SparkContext master=local[*] appName=PySparkShell>"
      ]
     },
     "execution_count": 1,
     "metadata": {},
     "output_type": "execute_result"
    }
   ],
   "source": [
    "sc"
   ]
  },
  {
   "cell_type": "code",
   "execution_count": 2,
   "metadata": {},
   "outputs": [],
   "source": [
    "from pyspark.sql import SparkSession\n",
    "spark = SparkSession.builder \\\n",
    "    .master(\"local[*]\") \\\n",
    "    .appName(\"PySparkShell\") \\\n",
    "    .getOrCreate()"
   ]
  },
  {
   "cell_type": "code",
   "execution_count": 3,
   "metadata": {},
   "outputs": [],
   "source": [
    "from pyspark.sql import functions as F\n",
    "from pyspark.sql.types import *\n",
    "from pyspark.sql.functions import *\n",
    "from pyspark.sql import functions as sf\n",
    "spark = SparkSession.builder.appName('lrex').getOrCreate()\n",
    "from pyspark.ml.regression import LinearRegression\n",
    "from pyspark import SQLContext, SparkConf, SparkContext\n",
    "import matplotlib.pyplot as plt\n",
    "import numpy as np\n",
    "from numpy import polyfit"
   ]
  },
  {
   "cell_type": "code",
   "execution_count": 4,
   "metadata": {},
   "outputs": [],
   "source": [
    "import pandas as pd"
   ]
  },
  {
   "cell_type": "code",
   "execution_count": 5,
   "metadata": {},
   "outputs": [],
   "source": [
    "import plotly.graph_objects as go"
   ]
  },
  {
   "cell_type": "code",
   "execution_count": 6,
   "metadata": {},
   "outputs": [],
   "source": [
    "import seaborn as sns"
   ]
  },
  {
   "cell_type": "code",
   "execution_count": 7,
   "metadata": {},
   "outputs": [],
   "source": [
    "Countries = spark.read.csv('covid19',inferSchema=True, header=True)\n",
    "Countries=Countries.orderBy(\"date\", ascending=False)\n"
   ]
  },
  {
   "cell_type": "code",
   "execution_count": 8,
   "metadata": {},
   "outputs": [],
   "source": [
    "Countries.createOrReplaceTempView(\"Countries\")\n",
    "Countries=spark\\\n",
    ".sql(\\\n",
    "     \"SELECT  location, total_cases_per_million, total_deaths_per_million \\\n",
    "     FROM Countries \\\n",
    "     Where date='2020-04-27'\")\n"
   ]
  },
  {
   "cell_type": "code",
   "execution_count": 9,
   "metadata": {},
   "outputs": [],
   "source": [
    "CountriesTest=Countries.select(\"*\")\n",
    "CountriesDeathRate=Countries.select(\"*\")\n"
   ]
  },
  {
   "cell_type": "code",
   "execution_count": 10,
   "metadata": {},
   "outputs": [
    {
     "name": "stdout",
     "output_type": "stream",
     "text": [
      "+---+--------------------+-----------------------+------------------------+\n",
      "|num|            location|total_cases_per_million|total_deaths_per_million|\n",
      "+---+--------------------+-----------------------+------------------------+\n",
      "|  1|          San Marino|              15852.437|                1208.085|\n",
      "|  2|             Belgium|               3980.632|                   612.1|\n",
      "|  3|             Andorra|               9577.428|                 517.699|\n",
      "|  4|               Spain|               4510.662|                 495.992|\n",
      "|  5|               Italy|               3269.418|                 440.675|\n",
      "|  6|              France|               1908.508|                 350.157|\n",
      "|  7|      United Kingdom|               2251.421|                 305.394|\n",
      "|  8|Sint Maarten (Dut...|               1725.666|                 303.158|\n",
      "|  9|         Netherlands|               2208.654|                 261.163|\n",
      "| 10|             Ireland|               3900.931|                 220.139|\n",
      "| 11|              Sweden|               1845.678|                 217.243|\n",
      "| 12|         Isle of Man|               3622.166|                 211.685|\n",
      "| 13|          Montserrat|                2200.44|                  200.04|\n",
      "| 14|       United States|               2918.134|                 165.787|\n",
      "| 15|         Switzerland|                3348.27|                 154.368|\n",
      "| 16|          Luxembourg|               5947.512|                  140.58|\n",
      "| 17|           Gibraltar|               4185.094|                 118.726|\n",
      "| 18|              Monaco|               2395.271|                 101.926|\n",
      "| 19|            Portugal|               2340.363|                  88.558|\n",
      "| 20|             Bermuda|               1750.357|                  80.292|\n",
      "+---+--------------------+-----------------------+------------------------+\n",
      "only showing top 20 rows\n",
      "\n"
     ]
    }
   ],
   "source": [
    "CountriesDeathRate=CountriesDeathRate.orderBy(\"total_deaths_per_million\", ascending=False)\n",
    "CountriesDeathRate.createOrReplaceTempView(\"CountriesDeathRate\")\n",
    "CountriesDeathRate=spark.sql('select row_number() over (order by \"location\") as num, * from CountriesDeathRate')\n",
    "CountriesDeathRate.show()"
   ]
  },
  {
   "cell_type": "code",
   "execution_count": 11,
   "metadata": {},
   "outputs": [
    {
     "name": "stdout",
     "output_type": "stream",
     "text": [
      "+----------+-----------------------+------------------------+\n",
      "|  location|total_cases_per_million|total_deaths_per_million|\n",
      "+----------+-----------------------+------------------------+\n",
      "|San Marino|              15852.437|                1208.085|\n",
      "|   Belgium|               3980.632|                   612.1|\n",
      "|   Andorra|               9577.428|                 517.699|\n",
      "|     Spain|               4510.662|                 495.992|\n",
      "+----------+-----------------------+------------------------+\n",
      "\n"
     ]
    }
   ],
   "source": [
    "CountriesDeathRate.createOrReplaceTempView(\"CountriesDeathRate\")\n",
    "CountriesDeathRate=spark\\\n",
    ".sql('SELECT location, total_cases_per_million, total_deaths_per_million \\\n",
    "FROM CountriesDeathRate \\\n",
    "WHERE num < 5')\n",
    "CountriesDeathRate.show()\n",
    "CountriesDeathRate = CountriesDeathRate.selectExpr(\"cast(total_cases_per_million as int) total_cases_per_million\",\"cast(total_deaths_per_million as int) total_deaths_per_million\")"
   ]
  },
  {
   "cell_type": "code",
   "execution_count": 12,
   "metadata": {},
   "outputs": [],
   "source": [
    "\n",
    "CountriesTest.createOrReplaceTempView(\"CountriesTest\")"
   ]
  },
  {
   "cell_type": "code",
   "execution_count": 13,
   "metadata": {},
   "outputs": [],
   "source": [
    "CountriesTest=spark\\\n",
    ".sql(\\\n",
    "     \"SELECT total_cases_per_million,total_deaths_per_million \\\n",
    "     FROM CountriesTest \\\n",
    "     Where location='Mexico' OR location= 'Denmark' OR location='Ireland' OR location='Netherlands'\")\n"
   ]
  },
  {
   "cell_type": "code",
   "execution_count": 14,
   "metadata": {},
   "outputs": [],
   "source": [
    "Countries=spark\\\n",
    ".sql(\\\n",
    "     \"SELECT  location, total_cases_per_million, total_deaths_per_million \\\n",
    "     FROM Countries \\\n",
    "     Where date='2020-04-27'\")\n"
   ]
  },
  {
   "cell_type": "code",
   "execution_count": 15,
   "metadata": {},
   "outputs": [],
   "source": [
    "Countries=Countries.select(\"total_cases_per_million\",\"total_deaths_per_million\")"
   ]
  },
  {
   "cell_type": "code",
   "execution_count": 16,
   "metadata": {},
   "outputs": [],
   "source": [
    "Countries = Countries.selectExpr(\"cast(total_cases_per_million as int) total_cases_per_million\",\"cast(total_deaths_per_million as int) total_deaths_per_million\")"
   ]
  },
  {
   "cell_type": "code",
   "execution_count": 17,
   "metadata": {},
   "outputs": [],
   "source": [
    "CountriesTest=CountriesTest.selectExpr(\"cast(total_cases_per_million as int) total_cases_per_million\",\"cast(total_deaths_per_million as int) total_deaths_per_million\")"
   ]
  },
  {
   "cell_type": "code",
   "execution_count": 18,
   "metadata": {},
   "outputs": [],
   "source": [
    "Countries=Countries.na.drop()\n"
   ]
  },
  {
   "cell_type": "code",
   "execution_count": 19,
   "metadata": {},
   "outputs": [],
   "source": [
    "conf = SparkConf().setMaster('local').setAppName('ML_learning')"
   ]
  },
  {
   "cell_type": "code",
   "execution_count": 20,
   "metadata": {},
   "outputs": [],
   "source": [
    "\n",
    "sqlcontext = SQLContext(sc)\n"
   ]
  },
  {
   "cell_type": "code",
   "execution_count": 21,
   "metadata": {},
   "outputs": [],
   "source": [
    "data = Countries.select(\"*\")\n"
   ]
  },
  {
   "cell_type": "code",
   "execution_count": 22,
   "metadata": {},
   "outputs": [],
   "source": [
    "x1 = data.toPandas()['total_cases_per_million'].values.tolist()"
   ]
  },
  {
   "cell_type": "code",
   "execution_count": 23,
   "metadata": {},
   "outputs": [],
   "source": [
    "y1 = data.toPandas()['total_deaths_per_million'].values.tolist()"
   ]
  },
  {
   "cell_type": "code",
   "execution_count": 24,
   "metadata": {},
   "outputs": [
    {
     "data": {
      "image/png": "[encoded data removed]",
      "text/plain": [
       "<Figure size 432x288 with 1 Axes>"
      ]
     },
     "metadata": {
      "needs_background": "light"
     },
     "output_type": "display_data"
    }
   ],
   "source": [
    "plt.scatter(x1, y1, color='red', s=30)\n",
    "plt.xlabel('total_cases_per_million')\n",
    "plt.ylabel('total_deaths_per_million')\n",
    "plt.title('Linear Regression')\n",
    "p1 = polyfit(x1, y1, 1)\n",
    "plt.plot(x1, np.polyval(p1,x1), 'g-' )\n",
    "plt.show()"
   ]
  },
  {
   "cell_type": "code",
   "execution_count": 25,
   "metadata": {},
   "outputs": [
    {
     "data": {
      "text/plain": [
       "<matplotlib.axes._subplots.AxesSubplot at 0x7f9644e18850>"
      ]
     },
     "execution_count": 25,
     "metadata": {},
     "output_type": "execute_result"
    },
    {
     "data": {
      "image/png": "[encoded data removed]",
      "text/plain": [
       "<Figure size 432x288 with 1 Axes>"
      ]
     },
     "metadata": {
      "needs_background": "light"
     },
     "output_type": "display_data"
    }
   ],
   "source": [
    "sns.scatterplot(x=\"total_cases_per_million\",y=\"total_deaths_per_million\",data=Countries.toPandas())\n",
    "sns.scatterplot(x=\"total_cases_per_million\",y=\"total_deaths_per_million\",data=CountriesTest.toPandas())\n",
    "sns.scatterplot(x=\"total_cases_per_million\",y=\"total_deaths_per_million\",data=CountriesDeathRate.toPandas())\n"
   ]
  },
  {
   "cell_type": "code",
   "execution_count": null,
   "metadata": {},
   "outputs": [],
   "source": []
  },
  {
   "cell_type": "code",
   "execution_count": null,
   "metadata": {},
   "outputs": [],
   "source": []
  },
  {
   "cell_type": "code",
   "execution_count": null,
   "metadata": {},
   "outputs": [],
   "source": []
  }
 ],
 "metadata": {
  "kernelspec": {
   "display_name": "Python 2",
   "language": "python",
   "name": "python2"
  },
  "language_info": {
   "codemirror_mode": {
    "name": "ipython",
    "version": 2
   },
   "file_extension": ".py",
   "mimetype": "text/x-python",
   "name": "python",
   "nbconvert_exporter": "python",
   "pygments_lexer": "ipython2",
   "version": "2.7.17"
  }
 },
 "nbformat": 4,
 "nbformat_minor": 2
}
