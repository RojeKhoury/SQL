{
 "cells": [
  {
   "cell_type": "code",
   "execution_count": 1,
   "metadata": {},
   "outputs": [
    {
     "data": {
      "text/html": [
       "\n",
       "        <div>\n",
       "            <p><b>SparkContext</b></p>\n",
       "\n",
       "            <p><a href=\"http://10.0.0.14:4042\">Spark UI</a></p>\n",
       "\n",
       "            <dl>\n",
       "              <dt>Version</dt>\n",
       "                <dd><code>v3.0.0-preview2</code></dd>\n",
       "              <dt>Master</dt>\n",
       "                <dd><code>local[*]</code></dd>\n",
       "              <dt>AppName</dt>\n",
       "                <dd><code>PySparkShell</code></dd>\n",
       "            </dl>\n",
       "        </div>\n",
       "        "
      ],
      "text/plain": [
       "<SparkContext master=local[*] appName=PySparkShell>"
      ]
     },
     "execution_count": 1,
     "metadata": {},
     "output_type": "execute_result"
    }
   ],
   "source": [
    "sc"
   ]
  },
  {
   "cell_type": "code",
   "execution_count": 2,
   "metadata": {},
   "outputs": [],
   "source": [
    "from pyspark.sql import SparkSession\n",
    "spark = SparkSession.builder \\\n",
    "    .master(\"local[*]\") \\\n",
    "    .appName(\"PySparkShell\") \\\n",
    "    .getOrCreate()"
   ]
  },
  {
   "cell_type": "code",
   "execution_count": 3,
   "metadata": {},
   "outputs": [],
   "source": [
    "from pyspark.sql import functions as F\n",
    "from pyspark.sql.types import *\n",
    "from pyspark.sql.functions import *\n",
    "from pyspark.sql import functions as sf"
   ]
  },
  {
   "cell_type": "code",
   "execution_count": 4,
   "metadata": {},
   "outputs": [],
   "source": [
    "import pandas as pd"
   ]
  },
  {
   "cell_type": "code",
   "execution_count": 5,
   "metadata": {},
   "outputs": [],
   "source": [
    "import plotly.graph_objects as go"
   ]
  },
  {
   "cell_type": "code",
   "execution_count": 6,
   "metadata": {},
   "outputs": [],
   "source": [
    "from matplotlib import pyplot as plt\n",
    "%matplotlib inline"
   ]
  },
  {
   "cell_type": "code",
   "execution_count": 7,
   "metadata": {},
   "outputs": [],
   "source": [
    "import seaborn as sns"
   ]
  },
  {
   "cell_type": "code",
   "execution_count": 8,
   "metadata": {},
   "outputs": [],
   "source": [
    "Countries = spark.read.csv('covid19',inferSchema=True, header=True)\n",
    "Countries=Countries.orderBy(\"date\", ascending=False)"
   ]
  },
  {
   "cell_type": "code",
   "execution_count": 9,
   "metadata": {},
   "outputs": [],
   "source": [
    "Countries.createOrReplaceTempView(\"Countries\")\n",
    "Countries=spark\\\n",
    ".sql(\\\n",
    "     \"SELECT location, total_cases_per_million \\\n",
    "     FROM Countries \\\n",
    "     Where date='2020-04-27'\")\n",
    "Countries=Countries.orderBy(\"total_cases_per_million\", ascending=False)"
   ]
  },
  {
   "cell_type": "code",
   "execution_count": 10,
   "metadata": {},
   "outputs": [],
   "source": [
    "Countries=Countries.withColumn(\"RoundTotalCases\", lit(Countries.total_cases_per_million/1000))"
   ]
  },
  {
   "cell_type": "code",
   "execution_count": 11,
   "metadata": {},
   "outputs": [],
   "source": [
    "Countries = Countries.selectExpr(\"cast(location as string) location\",\"cast(total_cases_per_million as int) total_cases_per_million\",\"cast(RoundTotalCases as int) RoundTotalCases\")\n",
    "Countries=Countries.groupBy(\"RoundTotalCases\") \\\n",
    ".count() \\\n",
    ".orderBy(\"RoundTotalCases\", ascending=False)\n"
   ]
  },
  {
   "cell_type": "code",
   "execution_count": 12,
   "metadata": {},
   "outputs": [],
   "source": [
    "Countries=Countries.na.drop()"
   ]
  },
  {
   "cell_type": "code",
   "execution_count": 13,
   "metadata": {},
   "outputs": [],
   "source": [
    "Countries=Countries.withColumn(\"RoundTotalCasesPlus\", lit(Countries.RoundTotalCases+1))"
   ]
  },
  {
   "cell_type": "code",
   "execution_count": 14,
   "metadata": {},
   "outputs": [],
   "source": [
    "Countries = Countries.selectExpr(\"cast(count as int) count\",\"cast(RoundTotalCases as string) RoundTotalCases\",\"cast(RoundTotalCasesPlus as string) RoundTotalCasesPlus\")"
   ]
  },
  {
   "cell_type": "code",
   "execution_count": 15,
   "metadata": {},
   "outputs": [],
   "source": [
    "Countries = Countries\\\n",
    ".withColumn('Range',sf.concat(sf.lit('('),sf.col('RoundTotalCases'),sf.lit('-'), sf.col('RoundTotalCasesPlus'),sf.lit('k)')))\n",
    "Countries = Countries.selectExpr(\"cast(count as int) cnt\",\"cast(Range as String) Range\")"
   ]
  },
  {
   "cell_type": "code",
   "execution_count": 16,
   "metadata": {},
   "outputs": [],
   "source": [
    "temp=Countries.withColumn(\"tempo\", lit(1))"
   ]
  },
  {
   "cell_type": "code",
   "execution_count": 17,
   "metadata": {},
   "outputs": [],
   "source": [
    "temp=temp.groupBy(\"tempo\").sum()"
   ]
  },
  {
   "cell_type": "code",
   "execution_count": 18,
   "metadata": {},
   "outputs": [],
   "source": [
    "temp=temp.withColumnRenamed(\"sum(cnt)\",\"NumOfCountries\")"
   ]
  },
  {
   "cell_type": "code",
   "execution_count": 19,
   "metadata": {},
   "outputs": [],
   "source": [
    "Countries.createOrReplaceTempView(\"T1\")\n",
    "temp.createOrReplaceTempView(\"T2\")"
   ]
  },
  {
   "cell_type": "code",
   "execution_count": 20,
   "metadata": {},
   "outputs": [],
   "source": [
    "Countries=spark\\\n",
    ".sql(\\\n",
    "     \"SELECT T2.NumOfCountries, T1.Range, T1.cnt \\\n",
    "     FROM T1, T2\")\n"
   ]
  },
  {
   "cell_type": "code",
   "execution_count": 21,
   "metadata": {},
   "outputs": [],
   "source": [
    "finel = Countries.selectExpr(\"cast(NumOfCountries as int) NumOfCountries\",\"cast(Range as String) Range\",\"cast(cnt as int) cnt\")\n"
   ]
  },
  {
   "cell_type": "code",
   "execution_count": 22,
   "metadata": {},
   "outputs": [],
   "source": [
    "finel=finel.withColumn(\"Rate\", lit((finel.cnt/finel.NumOfCountries)*100))"
   ]
  },
  {
   "cell_type": "code",
   "execution_count": 23,
   "metadata": {},
   "outputs": [
    {
     "name": "stdout",
     "output_type": "stream",
     "text": [
      "+--------------+--------+---+------------------+\n",
      "|NumOfCountries|   Range|cnt|              Rate|\n",
      "+--------------+--------+---+------------------+\n",
      "|           205|  (0-1k)|160| 78.04878048780488|\n",
      "|           205| (9-10k)|  1|0.4878048780487805|\n",
      "|           205|  (1-2k)| 22|10.731707317073171|\n",
      "|           205|  (3-4k)|  8| 3.902439024390244|\n",
      "|           205|  (4-5k)|  2| 0.975609756097561|\n",
      "|           205|  (2-3k)|  8| 3.902439024390244|\n",
      "|           205|  (5-6k)|  2| 0.975609756097561|\n",
      "|           205|(15-16k)|  1|0.4878048780487805|\n",
      "|           205|(11-12k)|  1|0.4878048780487805|\n",
      "+--------------+--------+---+------------------+\n",
      "\n"
     ]
    },
    {
     "data": {
      "text/plain": [
       "DataFrame[NumOfCountries: int, Range: string, cnt: int, Rate: double]"
      ]
     },
     "execution_count": 23,
     "metadata": {},
     "output_type": "execute_result"
    }
   ],
   "source": [
    "finel.show()\n",
    "finel"
   ]
  },
  {
   "cell_type": "code",
   "execution_count": 24,
   "metadata": {},
   "outputs": [
    {
     "name": "stdout",
     "output_type": "stream",
     "text": [
      "+--------+------------------+\n",
      "|   Range|              Rate|\n",
      "+--------+------------------+\n",
      "|  (0-1k)| 78.04878048780488|\n",
      "| (9-10k)|0.4878048780487805|\n",
      "|  (1-2k)|10.731707317073171|\n",
      "|  (3-4k)| 3.902439024390244|\n",
      "|  (4-5k)| 0.975609756097561|\n",
      "|  (2-3k)| 3.902439024390244|\n",
      "|  (5-6k)| 0.975609756097561|\n",
      "|(15-16k)|0.4878048780487805|\n",
      "|(11-12k)|0.4878048780487805|\n",
      "+--------+------------------+\n",
      "\n"
     ]
    }
   ],
   "source": [
    "densityData=finel.selectExpr(\"cast(Range as String) Range\",\"cast(Rate as double) Rate\")\n",
    "densityData.show()"
   ]
  },
  {
   "cell_type": "code",
   "execution_count": null,
   "metadata": {},
   "outputs": [],
   "source": []
  }
 ],
 "metadata": {
  "kernelspec": {
   "display_name": "Python 2",
   "language": "python",
   "name": "python2"
  },
  "language_info": {
   "codemirror_mode": {
    "name": "ipython",
    "version": 2
   },
   "file_extension": ".py",
   "mimetype": "text/x-python",
   "name": "python",
   "nbconvert_exporter": "python",
   "pygments_lexer": "ipython2",
   "version": "2.7.17"
  }
 },
 "nbformat": 4,
 "nbformat_minor": 2
}
