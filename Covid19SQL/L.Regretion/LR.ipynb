{
 "cells": [
  {
   "cell_type": "code",
   "execution_count": 1,
   "metadata": {},
   "outputs": [
    {
     "data": {
      "text/html": [
       "\n",
       "        <div>\n",
       "            <p><b>SparkContext</b></p>\n",
       "\n",
       "            <p><a href=\"http://10.0.0.14:4041\">Spark UI</a></p>\n",
       "\n",
       "            <dl>\n",
       "              <dt>Version</dt>\n",
       "                <dd><code>v3.0.0-preview2</code></dd>\n",
       "              <dt>Master</dt>\n",
       "                <dd><code>local[*]</code></dd>\n",
       "              <dt>AppName</dt>\n",
       "                <dd><code>PySparkShell</code></dd>\n",
       "            </dl>\n",
       "        </div>\n",
       "        "
      ],
      "text/plain": [
       "<SparkContext master=local[*] appName=PySparkShell>"
      ]
     },
     "execution_count": 1,
     "metadata": {},
     "output_type": "execute_result"
    }
   ],
   "source": [
    "sc"
   ]
  },
  {
   "cell_type": "code",
   "execution_count": 2,
   "metadata": {},
   "outputs": [],
   "source": [
    "from pyspark.sql import SparkSession\n",
    "spark = SparkSession.builder \\\n",
    "    .master(\"local[*]\") \\\n",
    "    .appName(\"PySparkShell\") \\\n",
    "    .getOrCreate()\n",
    "\n",
    "conf = SparkConf().setMaster('local').setAppName('ML_learning')\n",
    "sqlcontext = SQLContext(sc)"
   ]
  },
  {
   "cell_type": "code",
   "execution_count": 3,
   "metadata": {},
   "outputs": [],
   "source": [
    "import pandas as pd\n",
    "spark = SparkSession.builder.appName('lrex').getOrCreate()\n",
    "from pyspark.ml.regression import LinearRegression\n",
    "from pyspark import SQLContext, SparkConf, SparkContext\n",
    "import matplotlib.pyplot as plt\n",
    "import numpy as np\n",
    "from numpy import polyfit"
   ]
  },
  {
   "cell_type": "code",
   "execution_count": 4,
   "metadata": {},
   "outputs": [],
   "source": [
    "import plotly.graph_objects as go"
   ]
  },
  {
   "cell_type": "code",
   "execution_count": 5,
   "metadata": {},
   "outputs": [],
   "source": [
    "from matplotlib import pyplot as plt\n",
    "%matplotlib inline"
   ]
  },
  {
   "cell_type": "code",
   "execution_count": 6,
   "metadata": {},
   "outputs": [],
   "source": [
    "import seaborn as sns"
   ]
  },
  {
   "cell_type": "code",
   "execution_count": 7,
   "metadata": {},
   "outputs": [],
   "source": [
    "CoronaBeer = spark.read.csv('Corona.csv',inferSchema=True, header=True)"
   ]
  },
  {
   "cell_type": "code",
   "execution_count": 8,
   "metadata": {},
   "outputs": [],
   "source": [
    "CoronaBeer.createOrReplaceTempView('CoronaBeer')\n",
    "CoronaBeer=spark.sql('select row_number() over (order by \"Close\") as num, * from CoronaBeer')"
   ]
  },
  {
   "cell_type": "code",
   "execution_count": 9,
   "metadata": {},
   "outputs": [],
   "source": [
    "HeinekenBeer = spark.read.csv('Heineken.csv',inferSchema=True, header=True)"
   ]
  },
  {
   "cell_type": "code",
   "execution_count": 10,
   "metadata": {},
   "outputs": [],
   "source": [
    "HeinekenBeer.createOrReplaceTempView('HeinekenBeer')\n",
    "HeinekenBeer=spark.sql('select row_number() over (order by \"Close\") as num, * from HeinekenBeer')"
   ]
  },
  {
   "cell_type": "code",
   "execution_count": 11,
   "metadata": {},
   "outputs": [],
   "source": [
    "CarlsbergBeer = spark.read.csv('Carlsberg.csv',inferSchema=True, header=True)"
   ]
  },
  {
   "cell_type": "code",
   "execution_count": 12,
   "metadata": {},
   "outputs": [],
   "source": [
    "CarlsbergBeer.createOrReplaceTempView('CarlsbergBeer')\n",
    "CarlsbergBeer=spark.sql('select row_number() over (order by \"Close\") as num, * from CarlsbergBeer')"
   ]
  },
  {
   "cell_type": "code",
   "execution_count": 13,
   "metadata": {},
   "outputs": [],
   "source": [
    "GuinnessBeer = spark.read.csv('Guinness.csv',inferSchema=True, header=True)"
   ]
  },
  {
   "cell_type": "code",
   "execution_count": 14,
   "metadata": {},
   "outputs": [],
   "source": [
    "GuinnessBeer.createOrReplaceTempView('GuinnessBeer')\n",
    "GuinnessBeer=spark.sql('select row_number() over (order by \"Close\") as num, * from GuinnessBeer')"
   ]
  },
  {
   "cell_type": "code",
   "execution_count": 15,
   "metadata": {},
   "outputs": [
    {
     "data": {
      "text/html": [
       "<div>\n",
       "<style scoped>\n",
       "    .dataframe tbody tr th:only-of-type {\n",
       "        vertical-align: middle;\n",
       "    }\n",
       "\n",
       "    .dataframe tbody tr th {\n",
       "        vertical-align: top;\n",
       "    }\n",
       "\n",
       "    .dataframe thead th {\n",
       "        text-align: right;\n",
       "    }\n",
       "</style>\n",
       "<table border=\"1\" class=\"dataframe\">\n",
       "  <thead>\n",
       "    <tr style=\"text-align: right;\">\n",
       "      <th></th>\n",
       "      <th>num</th>\n",
       "      <th>Date</th>\n",
       "      <th>Open</th>\n",
       "      <th>High</th>\n",
       "      <th>Low</th>\n",
       "      <th>Close</th>\n",
       "      <th>Adj Close</th>\n",
       "      <th>Volume</th>\n",
       "    </tr>\n",
       "  </thead>\n",
       "  <tbody>\n",
       "    <tr>\n",
       "      <th>0</th>\n",
       "      <td>1</td>\n",
       "      <td>2020-01-02</td>\n",
       "      <td>167.679993</td>\n",
       "      <td>168.320007</td>\n",
       "      <td>166.669998</td>\n",
       "      <td>166.750000</td>\n",
       "      <td>165.232269</td>\n",
       "      <td>369900</td>\n",
       "    </tr>\n",
       "    <tr>\n",
       "      <th>1</th>\n",
       "      <td>2</td>\n",
       "      <td>2020-01-03</td>\n",
       "      <td>165.839996</td>\n",
       "      <td>167.080002</td>\n",
       "      <td>165.820007</td>\n",
       "      <td>166.410004</td>\n",
       "      <td>164.895355</td>\n",
       "      <td>376300</td>\n",
       "    </tr>\n",
       "    <tr>\n",
       "      <th>2</th>\n",
       "      <td>3</td>\n",
       "      <td>2020-01-06</td>\n",
       "      <td>167.479996</td>\n",
       "      <td>167.860001</td>\n",
       "      <td>167.149994</td>\n",
       "      <td>167.720001</td>\n",
       "      <td>166.193436</td>\n",
       "      <td>342800</td>\n",
       "    </tr>\n",
       "    <tr>\n",
       "      <th>3</th>\n",
       "      <td>4</td>\n",
       "      <td>2020-01-07</td>\n",
       "      <td>167.330002</td>\n",
       "      <td>167.330002</td>\n",
       "      <td>166.080002</td>\n",
       "      <td>166.279999</td>\n",
       "      <td>164.766541</td>\n",
       "      <td>366100</td>\n",
       "    </tr>\n",
       "    <tr>\n",
       "      <th>4</th>\n",
       "      <td>5</td>\n",
       "      <td>2020-01-08</td>\n",
       "      <td>168.179993</td>\n",
       "      <td>168.990005</td>\n",
       "      <td>167.820007</td>\n",
       "      <td>168.500000</td>\n",
       "      <td>166.966339</td>\n",
       "      <td>366100</td>\n",
       "    </tr>\n",
       "  </tbody>\n",
       "</table>\n",
       "</div>"
      ],
      "text/plain": [
       "   num        Date        Open        High         Low       Close  \\\n",
       "0    1  2020-01-02  167.679993  168.320007  166.669998  166.750000   \n",
       "1    2  2020-01-03  165.839996  167.080002  165.820007  166.410004   \n",
       "2    3  2020-01-06  167.479996  167.860001  167.149994  167.720001   \n",
       "3    4  2020-01-07  167.330002  167.330002  166.080002  166.279999   \n",
       "4    5  2020-01-08  168.179993  168.990005  167.820007  168.500000   \n",
       "\n",
       "    Adj Close  Volume  \n",
       "0  165.232269  369900  \n",
       "1  164.895355  376300  \n",
       "2  166.193436  342800  \n",
       "3  164.766541  366100  \n",
       "4  166.966339  366100  "
      ]
     },
     "execution_count": 15,
     "metadata": {},
     "output_type": "execute_result"
    }
   ],
   "source": [
    "GuinnessBeer.toPandas().head()"
   ]
  },
  {
   "cell_type": "code",
   "execution_count": 16,
   "metadata": {},
   "outputs": [],
   "source": [
    "CoronaBeer.createOrReplaceTempView(\"CoronaBeer\")"
   ]
  },
  {
   "cell_type": "code",
   "execution_count": 17,
   "metadata": {},
   "outputs": [],
   "source": [
    "CoronaBeer=spark\\\n",
    ".sql(\\\n",
    "     \"SELECT num,Close \\\n",
    "     FROM CoronaBeer \\\n",
    "     WHERE num>52 \")"
   ]
  },
  {
   "cell_type": "code",
   "execution_count": 18,
   "metadata": {},
   "outputs": [],
   "source": [
    "HeinekenBeer.createOrReplaceTempView(\"HeinekenBeer\")"
   ]
  },
  {
   "cell_type": "code",
   "execution_count": 19,
   "metadata": {},
   "outputs": [],
   "source": [
    "HeinekenBeer=spark\\\n",
    ".sql(\\\n",
    "     \"SELECT num,Close \\\n",
    "     FROM HeinekenBeer \\\n",
    "     WHERE num>52 \")"
   ]
  },
  {
   "cell_type": "code",
   "execution_count": 20,
   "metadata": {},
   "outputs": [],
   "source": [
    "CarlsbergBeer.createOrReplaceTempView(\"CarlsbergBeer\")"
   ]
  },
  {
   "cell_type": "code",
   "execution_count": 21,
   "metadata": {},
   "outputs": [],
   "source": [
    "CarlsbergBeer=spark\\\n",
    ".sql(\\\n",
    "     \"SELECT num,Close \\\n",
    "     FROM CarlsbergBeer \\\n",
    "     WHERE num>52 \")"
   ]
  },
  {
   "cell_type": "code",
   "execution_count": 22,
   "metadata": {},
   "outputs": [],
   "source": [
    "GuinnessBeer.createOrReplaceTempView(\"GuinnessBeer\")"
   ]
  },
  {
   "cell_type": "code",
   "execution_count": 23,
   "metadata": {},
   "outputs": [],
   "source": [
    "GuinnessBeer=spark\\\n",
    ".sql(\\\n",
    "     \"SELECT num,Close \\\n",
    "     FROM GuinnessBeer \\\n",
    "     WHERE num>52\")"
   ]
  },
  {
   "cell_type": "code",
   "execution_count": 24,
   "metadata": {},
   "outputs": [
    {
     "data": {
      "image/png": "[encoded data removed]",
      "text/plain": [
       "<Figure size 432x288 with 1 Axes>"
      ]
     },
     "metadata": {
      "needs_background": "light"
     },
     "output_type": "display_data"
    },
    {
     "data": {
      "image/png": "[encoded data removed]",
      "text/plain": [
       "<Figure size 432x288 with 1 Axes>"
      ]
     },
     "metadata": {
      "needs_background": "light"
     },
     "output_type": "display_data"
    },
    {
     "data": {
      "image/png": "[encoded data removed]",
      "text/plain": [
       "<Figure size 432x288 with 1 Axes>"
      ]
     },
     "metadata": {
      "needs_background": "light"
     },
     "output_type": "display_data"
    },
    {
     "data": {
      "image/png": "[encoded data removed]",
      "text/plain": [
       "<Figure size 432x288 with 1 Axes>"
      ]
     },
     "metadata": {
      "needs_background": "light"
     },
     "output_type": "display_data"
    }
   ],
   "source": [
    "\n",
    "data = CoronaBeer.select(\"*\")\n",
    "x1 = data.toPandas()['num'].values.tolist()\n",
    "y1 = data.toPandas()['Close'].values.tolist()\n",
    "plt.scatter(x1, y1, color='red', s=30)\n",
    "plt.xlabel('num')\n",
    "plt.ylabel('Close')\n",
    "plt.title('Linear Regression stoke recovery index')\n",
    "p1 = polyfit(x1, y1, 1)\n",
    "plt.plot(x1, np.polyval(p1,x1), 'g-' )\n",
    "plt.show()\n",
    "\n",
    "\n",
    "\n",
    "data = HeinekenBeer.select(\"*\")\n",
    "x1 = data.toPandas()['num'].values.tolist()\n",
    "y1 = data.toPandas()['Close'].values.tolist()\n",
    "plt.scatter(x1, y1, color='blue', s=30)\n",
    "plt.xlabel('num')\n",
    "plt.ylabel('Close')\n",
    "plt.title('Linear Regression stoke recovery index')\n",
    "p1 = polyfit(x1, y1, 1)\n",
    "plt.plot(x1, np.polyval(p1,x1), 'g-' )\n",
    "plt.show()\n",
    "\n",
    "\n",
    "data = CarlsbergBeer.select(\"*\")\n",
    "x1 = data.toPandas()['num'].values.tolist()\n",
    "y1 = data.toPandas()['Close'].values.tolist()\n",
    "plt.scatter(x1, y1, color='green', s=30)\n",
    "plt.xlabel('num')\n",
    "plt.ylabel('Close')\n",
    "plt.title('Linear Regression stoke recovery index')\n",
    "p1 = polyfit(x1, y1, 1)\n",
    "plt.plot(x1, np.polyval(p1,x1), 'g-' )\n",
    "plt.show()\n",
    "\n",
    "\n",
    "data = GuinnessBeer.select(\"*\")\n",
    "x1 = data.toPandas()['num'].values.tolist()\n",
    "y1 = data.toPandas()['Close'].values.tolist()\n",
    "plt.scatter(x1, y1, color='yellow', s=30)\n",
    "plt.xlabel('num')\n",
    "plt.ylabel('Close')\n",
    "plt.title('Linear Regression stoke recovery index')\n",
    "p1 = polyfit(x1, y1, 1)\n",
    "plt.plot(x1, np.polyval(p1,x1), 'g-' )\n",
    "plt.show()"
   ]
  },
  {
   "cell_type": "code",
   "execution_count": null,
   "metadata": {},
   "outputs": [],
   "source": []
  },
  {
   "cell_type": "code",
   "execution_count": null,
   "metadata": {},
   "outputs": [],
   "source": []
  }
 ],
 "metadata": {
  "kernelspec": {
   "display_name": "Python 2",
   "language": "python",
   "name": "python2"
  },
  "language_info": {
   "codemirror_mode": {
    "name": "ipython",
    "version": 2
   },
   "file_extension": ".py",
   "mimetype": "text/x-python",
   "name": "python",
   "nbconvert_exporter": "python",
   "pygments_lexer": "ipython2",
   "version": "2.7.17"
  }
 },
 "nbformat": 4,
 "nbformat_minor": 2
}
