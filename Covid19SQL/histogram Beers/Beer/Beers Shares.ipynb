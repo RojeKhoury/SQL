{
 "cells": [
  {
   "cell_type": "code",
   "execution_count": 1,
   "metadata": {},
   "outputs": [
    {
     "data": {
      "text/html": [
       "\n",
       "        <div>\n",
       "            <p><b>SparkContext</b></p>\n",
       "\n",
       "            <p><a href=\"http://10.0.0.14:4046\">Spark UI</a></p>\n",
       "\n",
       "            <dl>\n",
       "              <dt>Version</dt>\n",
       "                <dd><code>v3.0.0-preview2</code></dd>\n",
       "              <dt>Master</dt>\n",
       "                <dd><code>local[*]</code></dd>\n",
       "              <dt>AppName</dt>\n",
       "                <dd><code>PySparkShell</code></dd>\n",
       "            </dl>\n",
       "        </div>\n",
       "        "
      ],
      "text/plain": [
       "<SparkContext master=local[*] appName=PySparkShell>"
      ]
     },
     "execution_count": 1,
     "metadata": {},
     "output_type": "execute_result"
    }
   ],
   "source": [
    "sc"
   ]
  },
  {
   "cell_type": "code",
   "execution_count": 2,
   "metadata": {},
   "outputs": [],
   "source": [
    "from pyspark.sql import SparkSession\n",
    "spark = SparkSession.builder \\\n",
    "    .master(\"local[*]\") \\\n",
    "    .appName(\"PySparkShell\") \\\n",
    "    .getOrCreate()"
   ]
  },
  {
   "cell_type": "code",
   "execution_count": 3,
   "metadata": {},
   "outputs": [],
   "source": [
    "from pyspark.sql import functions as F\n",
    "from pyspark.sql.types import *\n",
    "from pyspark.sql.functions import lit"
   ]
  },
  {
   "cell_type": "code",
   "execution_count": 4,
   "metadata": {},
   "outputs": [],
   "source": [
    "import pandas as pd"
   ]
  },
  {
   "cell_type": "code",
   "execution_count": 5,
   "metadata": {},
   "outputs": [],
   "source": [
    "import plotly.graph_objects as go"
   ]
  },
  {
   "cell_type": "code",
   "execution_count": 6,
   "metadata": {},
   "outputs": [],
   "source": [
    "from matplotlib import pyplot as plt\n",
    "%matplotlib inline"
   ]
  },
  {
   "cell_type": "code",
   "execution_count": 7,
   "metadata": {},
   "outputs": [],
   "source": [
    "import seaborn as sns"
   ]
  },
  {
   "cell_type": "code",
   "execution_count": 8,
   "metadata": {},
   "outputs": [],
   "source": [
    "CoronaBeerMax = spark.read.csv('Corona.csv',inferSchema=True, header=True)\n",
    "CoronaBeerMax.createOrReplaceTempView(\"CoronaBeerMax\")\n",
    "\n",
    "CoronaBeerMax=spark\\\n",
    ".sql(\\\n",
    "     \"SELECT Max(CoronaBeerMax.Close) as MaxShareVal\\\n",
    "     FROM CoronaBeerMax\")"
   ]
  },
  {
   "cell_type": "code",
   "execution_count": 9,
   "metadata": {},
   "outputs": [],
   "source": [
    "CoronaBeerMin = spark.read.csv('Corona.csv',inferSchema=True, header=True)\n",
    "CoronaBeerMin.createOrReplaceTempView(\"CoronaBeerMin\")\n",
    "\n",
    "CoronaBeerMin=spark\\\n",
    ".sql(\\\n",
    "     \"SELECT Min(Close) as MinShareVal \\\n",
    "     FROM CoronaBeerMin\")"
   ]
  },
  {
   "cell_type": "code",
   "execution_count": 10,
   "metadata": {},
   "outputs": [],
   "source": [
    "CoronaBeerMax.createOrReplaceTempView(\"CoronaBeerMax\")\n",
    "CoronaBeerMin.createOrReplaceTempView(\"CoronaBeerMin\")\n",
    "\n",
    "CoronaBeer=spark\\\n",
    ".sql(\\\n",
    "     \"SELECT * \\\n",
    "     FROM CoronaBeerMax,CoronaBeerMin\")\n",
    "CoronaBeer = CoronaBeer.withColumn(\"BeerName\", lit(\"Corona\"))\n"
   ]
  },
  {
   "cell_type": "code",
   "execution_count": 11,
   "metadata": {},
   "outputs": [],
   "source": [
    "CarlsbergBeerMax = spark.read.csv('Carlsberg.csv',inferSchema=True, header=True)\n",
    "CarlsbergBeerMax.createOrReplaceTempView(\"CarlsbergBeerMax\")\n",
    "\n",
    "CarlsbergBeerMax=spark\\\n",
    ".sql(\\\n",
    "     \"SELECT Max(CarlsbergBeerMax.Close) as MaxShareVal\\\n",
    "     FROM CarlsbergBeerMax\")"
   ]
  },
  {
   "cell_type": "code",
   "execution_count": 12,
   "metadata": {},
   "outputs": [],
   "source": [
    "CarlsbergBeerMin = spark.read.csv('Carlsberg.csv',inferSchema=True, header=True)\n",
    "CarlsbergBeerMin.createOrReplaceTempView(\"CarlsbergBeerMin\")\n",
    "\n",
    "CarlsbergBeerMin=spark\\\n",
    ".sql(\\\n",
    "     \"SELECT Min(CarlsbergBeerMin.Close) as MinShareVal\\\n",
    "     FROM CarlsbergBeerMin\")"
   ]
  },
  {
   "cell_type": "code",
   "execution_count": 13,
   "metadata": {},
   "outputs": [],
   "source": [
    "CarlsbergBeerMax.createOrReplaceTempView(\"CarlsbergBeerMax\")\n",
    "CarlsbergBeerMin.createOrReplaceTempView(\"CarlsbergBeerMin\")\n",
    "\n",
    "CarlsbergBeer=spark\\\n",
    ".sql(\\\n",
    "     \"SELECT * \\\n",
    "     FROM CarlsbergBeerMax,CarlsbergBeerMin\")\n",
    "CarlsbergBeer = CarlsbergBeer.withColumn(\"BeerName\", lit(\"Carlsberg\"))"
   ]
  },
  {
   "cell_type": "code",
   "execution_count": 14,
   "metadata": {},
   "outputs": [],
   "source": [
    "HeinekenBeerMax = spark.read.csv('Heineken.csv',inferSchema=True, header=True)\n",
    "HeinekenBeerMax.createOrReplaceTempView(\"HeinekenBeerMax\")\n",
    "\n",
    "HeinekenBeerMax=spark\\\n",
    ".sql(\\\n",
    "     \"SELECT Max(HeinekenBeerMax.Close) as MaxShareVal\\\n",
    "     FROM HeinekenBeerMax\")"
   ]
  },
  {
   "cell_type": "code",
   "execution_count": 15,
   "metadata": {},
   "outputs": [],
   "source": [
    "HeinekenBeerMin = spark.read.csv('Heineken.csv',inferSchema=True, header=True)\n",
    "HeinekenBeerMin.createOrReplaceTempView(\"HeinekenBeerMin\")\n",
    "\n",
    "HeinekenBeerMin=spark\\\n",
    ".sql(\\\n",
    "     \"SELECT Min(HeinekenBeerMin.Close) as MinShareVal\\\n",
    "     FROM HeinekenBeerMin\")"
   ]
  },
  {
   "cell_type": "code",
   "execution_count": 16,
   "metadata": {},
   "outputs": [],
   "source": [
    "HeinekenBeerMax.createOrReplaceTempView(\"HeinekenBeerMax\")\n",
    "HeinekenBeerMin.createOrReplaceTempView(\"HeinekenBeerMin\")\n",
    "\n",
    "HeinekenBeer=spark\\\n",
    ".sql(\\\n",
    "     \"SELECT * \\\n",
    "     FROM HeinekenBeerMax,HeinekenBeerMin\")\n",
    "HeinekengBeer = HeinekenBeer.withColumn(\"BeerName\", lit(\"Heineken\"))"
   ]
  },
  {
   "cell_type": "code",
   "execution_count": 17,
   "metadata": {},
   "outputs": [],
   "source": [
    "GuinnessBeerMax = spark.read.csv('Guinness.csv',inferSchema=True, header=True)\n",
    "GuinnessBeerMax.createOrReplaceTempView(\"GuinnessBeerMax\")\n",
    "GuinnessBeerMax=spark\\\n",
    ".sql(\\\n",
    "     \"SELECT Max(Close) as MaxShareVal \\\n",
    "     FROM GuinnessBeerMax\")"
   ]
  },
  {
   "cell_type": "code",
   "execution_count": 18,
   "metadata": {},
   "outputs": [],
   "source": [
    "GuinnessBeerMin = spark.read.csv('Guinness.csv',inferSchema=True, header=True)\n",
    "GuinnessBeerMin.createOrReplaceTempView(\"GuinnessBeerMin\")\n",
    "GuinnessBeerMin=spark\\\n",
    ".sql(\\\n",
    "     \"SELECT Min(Close) as MinShareVal \\\n",
    "     FROM GuinnessBeerMin\")"
   ]
  },
  {
   "cell_type": "code",
   "execution_count": 19,
   "metadata": {},
   "outputs": [],
   "source": [
    "GuinnessBeerMax.createOrReplaceTempView(\"GuinnessBeerMax\")\n",
    "GuinnessBeerMin.createOrReplaceTempView(\"GuinnessBeerMin\")\n",
    "\n",
    "GuinnessBeer=spark\\\n",
    ".sql(\\\n",
    "     \"SELECT * \\\n",
    "     FROM GuinnessBeerMax,GuinnessBeerMin\")\n",
    "GuinnessBeer = GuinnessBeer.withColumn(\"BeerName\", lit(\"Guinness\"))"
   ]
  },
  {
   "cell_type": "code",
   "execution_count": 20,
   "metadata": {},
   "outputs": [
    {
     "name": "stdout",
     "output_type": "stream",
     "text": [
      "+-----------+-----------+---------+-------------------+\n",
      "|MaxShareVal|MinShareVal| BeerName|               Rate|\n",
      "+-----------+-----------+---------+-------------------+\n",
      "|     1057.0| 663.599976|Carlsberg|0.37218545316934726|\n",
      "| 170.699997| 102.589996| Guinness|0.39900411363217536|\n",
      "| 208.339996| 105.639999|   Corona| 0.4929442208494619|\n",
      "| 104.949997|  70.779999| Heineken|  0.325583601493576|\n",
      "+-----------+-----------+---------+-------------------+\n",
      "\n"
     ]
    }
   ],
   "source": [
    "Beer=CarlsbergBeer.union(GuinnessBeer)\n",
    "Beer=Beer.union(CoronaBeer)\n",
    "Beer=Beer.union(HeinekengBeer)\n",
    "Beer=Beer.withColumn(\"Rate\", lit(1- (Beer.MinShareVal / Beer.MaxShareVal)))\n",
    "Beer.show()\n"
   ]
  },
  {
   "cell_type": "code",
   "execution_count": 21,
   "metadata": {},
   "outputs": [
    {
     "data": {
      "text/plain": [
       "<matplotlib.axes._subplots.AxesSubplot at 0x7f4d21710cd0>"
      ]
     },
     "execution_count": 21,
     "metadata": {},
     "output_type": "execute_result"
    },
    {
     "data": {
      "image/png": "[encoded data removed]",
      "text/plain": [
       "<Figure size 432x288 with 1 Axes>"
      ]
     },
     "metadata": {
      "needs_background": "light"
     },
     "output_type": "display_data"
    }
   ],
   "source": [
    "sns.barplot(x=\"BeerName\",y=\"Rate\",data=Beer.toPandas())"
   ]
  },
  {
   "cell_type": "code",
   "execution_count": null,
   "metadata": {},
   "outputs": [],
   "source": []
  }
 ],
 "metadata": {
  "kernelspec": {
   "display_name": "Python 2",
   "language": "python",
   "name": "python2"
  },
  "language_info": {
   "codemirror_mode": {
    "name": "ipython",
    "version": 2
   },
   "file_extension": ".py",
   "mimetype": "text/x-python",
   "name": "python",
   "nbconvert_exporter": "python",
   "pygments_lexer": "ipython2",
   "version": "2.7.17"
  }
 },
 "nbformat": 4,
 "nbformat_minor": 2
}
