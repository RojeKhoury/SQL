{
 "cells": [
  {
   "cell_type": "code",
   "execution_count": 1,
   "metadata": {},
   "outputs": [
    {
     "data": {
      "text/html": [
       "\n",
       "        <div>\n",
       "            <p><b>SparkContext</b></p>\n",
       "\n",
       "            <p><a href=\"http://10.0.0.14:4045\">Spark UI</a></p>\n",
       "\n",
       "            <dl>\n",
       "              <dt>Version</dt>\n",
       "                <dd><code>v3.0.0-preview2</code></dd>\n",
       "              <dt>Master</dt>\n",
       "                <dd><code>local[*]</code></dd>\n",
       "              <dt>AppName</dt>\n",
       "                <dd><code>PySparkShell</code></dd>\n",
       "            </dl>\n",
       "        </div>\n",
       "        "
      ],
      "text/plain": [
       "<SparkContext master=local[*] appName=PySparkShell>"
      ]
     },
     "execution_count": 1,
     "metadata": {},
     "output_type": "execute_result"
    }
   ],
   "source": [
    "sc"
   ]
  },
  {
   "cell_type": "code",
   "execution_count": 2,
   "metadata": {},
   "outputs": [],
   "source": [
    "from pyspark.sql import SparkSession\n",
    "spark = SparkSession.builder \\\n",
    "    .master(\"local[*]\") \\\n",
    "    .appName(\"PySparkShell\") \\\n",
    "    .getOrCreate()"
   ]
  },
  {
   "cell_type": "code",
   "execution_count": 3,
   "metadata": {},
   "outputs": [],
   "source": [
    "from pyspark.sql.functions import lit\n",
    "from pyspark.sql import functions as F\n",
    "from pyspark.sql.types import *"
   ]
  },
  {
   "cell_type": "code",
   "execution_count": 4,
   "metadata": {},
   "outputs": [],
   "source": [
    "CoronaBeer = spark.read.csv('Corona.csv',inferSchema=True, header=True)\n",
    "HeinekenBeer = spark.read.csv('Heineken.csv',inferSchema=True, header=True)\n",
    "GuinnessBeer = spark.read.csv('Guinness.csv',inferSchema=True, header=True)\n",
    "CarlsbergBeer = spark.read.csv('Carlsberg.csv',inferSchema=True, header=True)\n",
    "Covid19 = spark.read.csv('covid19',inferSchema=True, header=True)"
   ]
  },
  {
   "cell_type": "code",
   "execution_count": 5,
   "metadata": {},
   "outputs": [
    {
     "data": {
      "text/html": [
       "<div>\n",
       "<style scoped>\n",
       "    .dataframe tbody tr th:only-of-type {\n",
       "        vertical-align: middle;\n",
       "    }\n",
       "\n",
       "    .dataframe tbody tr th {\n",
       "        vertical-align: top;\n",
       "    }\n",
       "\n",
       "    .dataframe thead th {\n",
       "        text-align: right;\n",
       "    }\n",
       "</style>\n",
       "<table border=\"1\" class=\"dataframe\">\n",
       "  <thead>\n",
       "    <tr style=\"text-align: right;\">\n",
       "      <th></th>\n",
       "      <th>iso_code</th>\n",
       "      <th>location</th>\n",
       "      <th>date</th>\n",
       "      <th>total_cases</th>\n",
       "      <th>new_cases</th>\n",
       "      <th>total_deaths</th>\n",
       "      <th>new_deaths</th>\n",
       "      <th>total_cases_per_million</th>\n",
       "      <th>new_cases_per_million</th>\n",
       "      <th>total_deaths_per_million</th>\n",
       "      <th>new_deaths_per_million</th>\n",
       "      <th>total_tests</th>\n",
       "      <th>new_tests</th>\n",
       "      <th>total_tests_per_thousand</th>\n",
       "      <th>new_tests_per_thousand</th>\n",
       "      <th>tests_units</th>\n",
       "    </tr>\n",
       "  </thead>\n",
       "  <tbody>\n",
       "    <tr>\n",
       "      <th>0</th>\n",
       "      <td>ABW</td>\n",
       "      <td>Aruba</td>\n",
       "      <td>2020-03-13</td>\n",
       "      <td>2</td>\n",
       "      <td>2</td>\n",
       "      <td>0</td>\n",
       "      <td>0</td>\n",
       "      <td>18.733</td>\n",
       "      <td>18.733</td>\n",
       "      <td>0.0</td>\n",
       "      <td>0.0</td>\n",
       "      <td>NaN</td>\n",
       "      <td>NaN</td>\n",
       "      <td>NaN</td>\n",
       "      <td>NaN</td>\n",
       "      <td>None</td>\n",
       "    </tr>\n",
       "    <tr>\n",
       "      <th>1</th>\n",
       "      <td>ABW</td>\n",
       "      <td>Aruba</td>\n",
       "      <td>2020-03-20</td>\n",
       "      <td>4</td>\n",
       "      <td>2</td>\n",
       "      <td>0</td>\n",
       "      <td>0</td>\n",
       "      <td>37.465</td>\n",
       "      <td>18.733</td>\n",
       "      <td>0.0</td>\n",
       "      <td>0.0</td>\n",
       "      <td>NaN</td>\n",
       "      <td>NaN</td>\n",
       "      <td>NaN</td>\n",
       "      <td>NaN</td>\n",
       "      <td>None</td>\n",
       "    </tr>\n",
       "    <tr>\n",
       "      <th>2</th>\n",
       "      <td>ABW</td>\n",
       "      <td>Aruba</td>\n",
       "      <td>2020-03-24</td>\n",
       "      <td>12</td>\n",
       "      <td>8</td>\n",
       "      <td>0</td>\n",
       "      <td>0</td>\n",
       "      <td>112.395</td>\n",
       "      <td>74.930</td>\n",
       "      <td>0.0</td>\n",
       "      <td>0.0</td>\n",
       "      <td>NaN</td>\n",
       "      <td>NaN</td>\n",
       "      <td>NaN</td>\n",
       "      <td>NaN</td>\n",
       "      <td>None</td>\n",
       "    </tr>\n",
       "    <tr>\n",
       "      <th>3</th>\n",
       "      <td>ABW</td>\n",
       "      <td>Aruba</td>\n",
       "      <td>2020-03-25</td>\n",
       "      <td>17</td>\n",
       "      <td>5</td>\n",
       "      <td>0</td>\n",
       "      <td>0</td>\n",
       "      <td>159.227</td>\n",
       "      <td>46.831</td>\n",
       "      <td>0.0</td>\n",
       "      <td>0.0</td>\n",
       "      <td>NaN</td>\n",
       "      <td>NaN</td>\n",
       "      <td>NaN</td>\n",
       "      <td>NaN</td>\n",
       "      <td>None</td>\n",
       "    </tr>\n",
       "    <tr>\n",
       "      <th>4</th>\n",
       "      <td>ABW</td>\n",
       "      <td>Aruba</td>\n",
       "      <td>2020-03-26</td>\n",
       "      <td>19</td>\n",
       "      <td>2</td>\n",
       "      <td>0</td>\n",
       "      <td>0</td>\n",
       "      <td>177.959</td>\n",
       "      <td>18.733</td>\n",
       "      <td>0.0</td>\n",
       "      <td>0.0</td>\n",
       "      <td>NaN</td>\n",
       "      <td>NaN</td>\n",
       "      <td>NaN</td>\n",
       "      <td>NaN</td>\n",
       "      <td>None</td>\n",
       "    </tr>\n",
       "  </tbody>\n",
       "</table>\n",
       "</div>"
      ],
      "text/plain": [
       "  iso_code location        date  total_cases  new_cases  total_deaths  \\\n",
       "0      ABW    Aruba  2020-03-13            2          2             0   \n",
       "1      ABW    Aruba  2020-03-20            4          2             0   \n",
       "2      ABW    Aruba  2020-03-24           12          8             0   \n",
       "3      ABW    Aruba  2020-03-25           17          5             0   \n",
       "4      ABW    Aruba  2020-03-26           19          2             0   \n",
       "\n",
       "   new_deaths  total_cases_per_million  new_cases_per_million  \\\n",
       "0           0                   18.733                 18.733   \n",
       "1           0                   37.465                 18.733   \n",
       "2           0                  112.395                 74.930   \n",
       "3           0                  159.227                 46.831   \n",
       "4           0                  177.959                 18.733   \n",
       "\n",
       "   total_deaths_per_million  new_deaths_per_million  total_tests  new_tests  \\\n",
       "0                       0.0                     0.0          NaN        NaN   \n",
       "1                       0.0                     0.0          NaN        NaN   \n",
       "2                       0.0                     0.0          NaN        NaN   \n",
       "3                       0.0                     0.0          NaN        NaN   \n",
       "4                       0.0                     0.0          NaN        NaN   \n",
       "\n",
       "   total_tests_per_thousand  new_tests_per_thousand tests_units  \n",
       "0                       NaN                     NaN        None  \n",
       "1                       NaN                     NaN        None  \n",
       "2                       NaN                     NaN        None  \n",
       "3                       NaN                     NaN        None  \n",
       "4                       NaN                     NaN        None  "
      ]
     },
     "execution_count": 5,
     "metadata": {},
     "output_type": "execute_result"
    }
   ],
   "source": [
    "Covid19.toPandas().head()"
   ]
  },
  {
   "cell_type": "code",
   "execution_count": 6,
   "metadata": {},
   "outputs": [],
   "source": [
    "CoronaBeer = CoronaBeer.withColumn(\"RelevantBeer\", lit(\"Corona\"))\n",
    "CoronaBeer = CoronaBeer.withColumn(\"iso_code\", lit(\"MEX\"))\n",
    "CarlsbergBeer = CarlsbergBeer.withColumn(\"RelevantBeer\", lit(\"Carlsberg\"))\n",
    "CarlsbergBeer = CarlsbergBeer.withColumn(\"iso_code\", lit(\"DNK\"))\n",
    "GuinnessBeer = GuinnessBeer.withColumn(\"RelevantBeer\", lit(\"Guinness\"))\n",
    "GuinnessBeer = GuinnessBeer.withColumn(\"iso_code\", lit(\"IRL\"))\n",
    "HeinekenBeer = HeinekenBeer.withColumn(\"RelevantBeer\", lit(\"Heineken\"))\n",
    "HeinekenBeer = HeinekenBeer.withColumn(\"iso_code\", lit(\"NLD\"))"
   ]
  },
  {
   "cell_type": "code",
   "execution_count": 7,
   "metadata": {},
   "outputs": [
    {
     "data": {
      "text/html": [
       "<div>\n",
       "<style scoped>\n",
       "    .dataframe tbody tr th:only-of-type {\n",
       "        vertical-align: middle;\n",
       "    }\n",
       "\n",
       "    .dataframe tbody tr th {\n",
       "        vertical-align: top;\n",
       "    }\n",
       "\n",
       "    .dataframe thead th {\n",
       "        text-align: right;\n",
       "    }\n",
       "</style>\n",
       "<table border=\"1\" class=\"dataframe\">\n",
       "  <thead>\n",
       "    <tr style=\"text-align: right;\">\n",
       "      <th></th>\n",
       "      <th>Date</th>\n",
       "      <th>Open</th>\n",
       "      <th>High</th>\n",
       "      <th>Low</th>\n",
       "      <th>Close</th>\n",
       "      <th>Adj Close</th>\n",
       "      <th>Volume</th>\n",
       "      <th>RelevantBeer</th>\n",
       "      <th>iso_code</th>\n",
       "    </tr>\n",
       "  </thead>\n",
       "  <tbody>\n",
       "    <tr>\n",
       "      <th>0</th>\n",
       "      <td>2020-01-02</td>\n",
       "      <td>95.680000</td>\n",
       "      <td>95.980003</td>\n",
       "      <td>94.959999</td>\n",
       "      <td>95.820000</td>\n",
       "      <td>94.496239</td>\n",
       "      <td>382782</td>\n",
       "      <td>Heineken</td>\n",
       "      <td>NLD</td>\n",
       "    </tr>\n",
       "    <tr>\n",
       "      <th>1</th>\n",
       "      <td>2020-01-03</td>\n",
       "      <td>95.260002</td>\n",
       "      <td>96.139999</td>\n",
       "      <td>95.220001</td>\n",
       "      <td>96.000000</td>\n",
       "      <td>94.673752</td>\n",
       "      <td>327670</td>\n",
       "      <td>Heineken</td>\n",
       "      <td>NLD</td>\n",
       "    </tr>\n",
       "    <tr>\n",
       "      <th>2</th>\n",
       "      <td>2020-01-06</td>\n",
       "      <td>96.300003</td>\n",
       "      <td>97.660004</td>\n",
       "      <td>95.620003</td>\n",
       "      <td>97.519997</td>\n",
       "      <td>96.172745</td>\n",
       "      <td>666897</td>\n",
       "      <td>Heineken</td>\n",
       "      <td>NLD</td>\n",
       "    </tr>\n",
       "    <tr>\n",
       "      <th>3</th>\n",
       "      <td>2020-01-07</td>\n",
       "      <td>97.900002</td>\n",
       "      <td>98.820000</td>\n",
       "      <td>97.480003</td>\n",
       "      <td>97.480003</td>\n",
       "      <td>96.133308</td>\n",
       "      <td>536847</td>\n",
       "      <td>Heineken</td>\n",
       "      <td>NLD</td>\n",
       "    </tr>\n",
       "    <tr>\n",
       "      <th>4</th>\n",
       "      <td>2020-01-08</td>\n",
       "      <td>97.099998</td>\n",
       "      <td>98.480003</td>\n",
       "      <td>97.040001</td>\n",
       "      <td>98.040001</td>\n",
       "      <td>96.685570</td>\n",
       "      <td>579833</td>\n",
       "      <td>Heineken</td>\n",
       "      <td>NLD</td>\n",
       "    </tr>\n",
       "  </tbody>\n",
       "</table>\n",
       "</div>"
      ],
      "text/plain": [
       "         Date       Open       High        Low      Close  Adj Close  Volume  \\\n",
       "0  2020-01-02  95.680000  95.980003  94.959999  95.820000  94.496239  382782   \n",
       "1  2020-01-03  95.260002  96.139999  95.220001  96.000000  94.673752  327670   \n",
       "2  2020-01-06  96.300003  97.660004  95.620003  97.519997  96.172745  666897   \n",
       "3  2020-01-07  97.900002  98.820000  97.480003  97.480003  96.133308  536847   \n",
       "4  2020-01-08  97.099998  98.480003  97.040001  98.040001  96.685570  579833   \n",
       "\n",
       "  RelevantBeer iso_code  \n",
       "0     Heineken      NLD  \n",
       "1     Heineken      NLD  \n",
       "2     Heineken      NLD  \n",
       "3     Heineken      NLD  \n",
       "4     Heineken      NLD  "
      ]
     },
     "execution_count": 7,
     "metadata": {},
     "output_type": "execute_result"
    }
   ],
   "source": [
    "HeinekenBeer.toPandas().head()"
   ]
  },
  {
   "cell_type": "code",
   "execution_count": 8,
   "metadata": {},
   "outputs": [],
   "source": [
    "Beer=CarlsbergBeer.union(GuinnessBeer)\n",
    "Beer=Beer.union(CoronaBeer)\n",
    "Beer=Beer.union(HeinekenBeer)"
   ]
  },
  {
   "cell_type": "code",
   "execution_count": 9,
   "metadata": {},
   "outputs": [],
   "source": [
    "Beer.toPandas().head()\n",
    "Beer.createOrReplaceTempView(\"Beer\")\n",
    "Covid19.createOrReplaceTempView(\"Covid19\")"
   ]
  },
  {
   "cell_type": "code",
   "execution_count": 10,
   "metadata": {},
   "outputs": [],
   "source": [
    "\n",
    "BigData=spark\\\n",
    ".sql(\\\n",
    "     \"SELECT  Covid19.iso_code, Covid19.location, Covid19.date, Covid19.total_cases, Covid19.new_cases, Covid19.total_deaths, Covid19.new_deaths, Covid19.total_cases_per_million, Covid19.new_cases_per_million, Covid19.total_deaths_per_million, Covid19.new_deaths_per_million ,Beer.RelevantBeer, Beer.Close\\\n",
    "     FROM Covid19, Beer \\\n",
    "     WHERE Covid19.iso_code=Beer.iso_code AND  Covid19.date=Beer.Date\")"
   ]
  },
  {
   "cell_type": "code",
   "execution_count": 11,
   "metadata": {},
   "outputs": [
    {
     "data": {
      "text/plain": [
       "DataFrame[iso_code: string, location: string, date: string, total_cases: int, new_cases: int, total_deaths: int, new_deaths: int, total_cases_per_million: double, new_cases_per_million: double, total_deaths_per_million: double, new_deaths_per_million: double, RelevantBeer: string, Close: double]"
      ]
     },
     "execution_count": 11,
     "metadata": {},
     "output_type": "execute_result"
    }
   ],
   "source": [
    "BigData\n"
   ]
  },
  {
   "cell_type": "code",
   "execution_count": 13,
   "metadata": {},
   "outputs": [],
   "source": [
    "BigData.toPandas().to_csv('BigData.csv', index = False)"
   ]
  },
  {
   "cell_type": "code",
   "execution_count": null,
   "metadata": {},
   "outputs": [],
   "source": []
  }
 ],
 "metadata": {
  "kernelspec": {
   "display_name": "Python 2",
   "language": "python",
   "name": "python2"
  },
  "language_info": {
   "codemirror_mode": {
    "name": "ipython",
    "version": 2
   },
   "file_extension": ".py",
   "mimetype": "text/x-python",
   "name": "python",
   "nbconvert_exporter": "python",
   "pygments_lexer": "ipython2",
   "version": "2.7.17"
  }
 },
 "nbformat": 4,
 "nbformat_minor": 2
}
