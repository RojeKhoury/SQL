{
 "cells": [
  {
   "cell_type": "code",
   "execution_count": 1,
   "metadata": {},
   "outputs": [
    {
     "data": {
      "text/html": [
       "\n",
       "        <div>\n",
       "            <p><b>SparkContext</b></p>\n",
       "\n",
       "            <p><a href=\"http://10.0.0.14:4055\">Spark UI</a></p>\n",
       "\n",
       "            <dl>\n",
       "              <dt>Version</dt>\n",
       "                <dd><code>v3.0.0-preview2</code></dd>\n",
       "              <dt>Master</dt>\n",
       "                <dd><code>local[*]</code></dd>\n",
       "              <dt>AppName</dt>\n",
       "                <dd><code>PySparkShell</code></dd>\n",
       "            </dl>\n",
       "        </div>\n",
       "        "
      ],
      "text/plain": [
       "<SparkContext master=local[*] appName=PySparkShell>"
      ]
     },
     "execution_count": 1,
     "metadata": {},
     "output_type": "execute_result"
    }
   ],
   "source": [
    "sc"
   ]
  },
  {
   "cell_type": "code",
   "execution_count": 2,
   "metadata": {},
   "outputs": [],
   "source": [
    "from pyspark.sql import SparkSession\n",
    "spark = SparkSession.builder \\\n",
    "    .master(\"local[*]\") \\\n",
    "    .appName(\"PySparkShell\") \\\n",
    "    .getOrCreate()"
   ]
  },
  {
   "cell_type": "code",
   "execution_count": 3,
   "metadata": {},
   "outputs": [],
   "source": [
    "from pyspark.sql import functions as F\n",
    "from pyspark.sql.types import *\n",
    "from pyspark.sql.functions import lit"
   ]
  },
  {
   "cell_type": "code",
   "execution_count": 4,
   "metadata": {},
   "outputs": [],
   "source": [
    "import pandas as pd"
   ]
  },
  {
   "cell_type": "code",
   "execution_count": 5,
   "metadata": {},
   "outputs": [],
   "source": [
    "import plotly.graph_objects as go"
   ]
  },
  {
   "cell_type": "code",
   "execution_count": 6,
   "metadata": {},
   "outputs": [],
   "source": [
    "from matplotlib import pyplot as plt\n",
    "%matplotlib inline"
   ]
  },
  {
   "cell_type": "code",
   "execution_count": 7,
   "metadata": {},
   "outputs": [],
   "source": [
    "import seaborn as sns"
   ]
  },
  {
   "cell_type": "code",
   "execution_count": 8,
   "metadata": {},
   "outputs": [],
   "source": [
    "CoronaBeerDateForInvestigation = spark.read.csv('Still_Date.csv',inferSchema=True, header=True)\n",
    "CoronaBeerDateForInvestigation=CoronaBeerDateForInvestigation.orderBy(\"Date\", ascending=False)\n",
    "CoronaBeerDateForInvestigation.createOrReplaceTempView(\"DateStiller\")\n",
    "CoronaBeerDateForInvestigation=spark\\\n",
    ".sql(\\\n",
    "     \"SELECT Date as Stallen \\\n",
    "     FROM DateStiller\")\n",
    "CoronaBeerDateForInvestigation.createOrReplaceTempView(\"DateStiller\")"
   ]
  },
  {
   "cell_type": "code",
   "execution_count": 9,
   "metadata": {},
   "outputs": [],
   "source": [
    "BeerCountries = spark.read.csv('covid19',inferSchema=True, header=True)\n"
   ]
  },
  {
   "cell_type": "code",
   "execution_count": 10,
   "metadata": {},
   "outputs": [],
   "source": [
    "BeerCountries.createOrReplaceTempView(\"Countries\")\n",
    "BeerCountries=spark\\\n",
    ".sql(\\\n",
    "     \"SELECT * \\\n",
    "     FROM Countries \\\n",
    "     Where location='Mexico' OR location= 'Denmark' Or location='Ireland' Or location='Netherlands'\")\n",
    "\n",
    "\n",
    "BeerCountries.createOrReplaceTempView(\"Countries\")\n",
    "BeerCountries=spark\\\n",
    ".sql(\\\n",
    "     \"SELECT location, date, total_cases, total_deaths\\\n",
    "     FROM Countries,DateStiller \\\n",
    "     Where date = Stallen\")"
   ]
  },
  {
   "cell_type": "code",
   "execution_count": 11,
   "metadata": {},
   "outputs": [],
   "source": [
    "BeerCountries.createOrReplaceTempView(\"Countries\")\n",
    "MexicoCasesPM=spark\\\n",
    ".sql(\\\n",
    "     \"SELECT location, date, total_cases \\\n",
    "     FROM Countries \\\n",
    "     Where location='Mexico'\")\n",
    "MexicoDeathPM=spark\\\n",
    ".sql(\\\n",
    "     \"SELECT location, date, total_deaths \\\n",
    "     FROM Countries \\\n",
    "     Where location='Mexico' \")"
   ]
  },
  {
   "cell_type": "code",
   "execution_count": 12,
   "metadata": {},
   "outputs": [],
   "source": [
    "DenmarkCasesPM=spark\\\n",
    ".sql(\\\n",
    "     \"SELECT location, date, total_cases \\\n",
    "     FROM Countries \\\n",
    "     Where location='Denmark'\")\n",
    "DenmarkDeathPM=spark\\\n",
    ".sql(\\\n",
    "     \"SELECT location, date, total_deaths \\\n",
    "     FROM Countries \\\n",
    "     Where location='Denmark' \")"
   ]
  },
  {
   "cell_type": "code",
   "execution_count": 13,
   "metadata": {},
   "outputs": [],
   "source": [
    "NetherlandsCasesPM=spark\\\n",
    ".sql(\\\n",
    "     \"SELECT location, date, total_cases \\\n",
    "     FROM Countries \\\n",
    "     Where location='Netherlands'\")\n",
    "NetherlandsDeathPM=spark\\\n",
    ".sql(\\\n",
    "     \"SELECT location, date, total_deaths \\\n",
    "     FROM Countries \\\n",
    "     Where location='Netherlands' \")"
   ]
  },
  {
   "cell_type": "code",
   "execution_count": 14,
   "metadata": {},
   "outputs": [],
   "source": [
    "IrelandCasesPM=spark\\\n",
    ".sql(\\\n",
    "     \"SELECT location, date, total_cases \\\n",
    "     FROM Countries \\\n",
    "     Where location='Ireland'\")\n",
    "IrelandDeathPM=spark\\\n",
    ".sql(\\\n",
    "     \"SELECT location, date, total_deaths \\\n",
    "     FROM Countries \\\n",
    "     Where location='Ireland' \")"
   ]
  },
  {
   "cell_type": "code",
   "execution_count": 15,
   "metadata": {},
   "outputs": [
    {
     "data": {
      "text/plain": [
       "<matplotlib.axes._subplots.AxesSubplot at 0x7f5b61b2ef50>"
      ]
     },
     "execution_count": 15,
     "metadata": {},
     "output_type": "execute_result"
    },
    {
     "data": {
      "image/png": "[encoded data removed]",
      "text/plain": [
       "<Figure size 432x288 with 1 Axes>"
      ]
     },
     "metadata": {
      "needs_background": "light"
     },
     "output_type": "display_data"
    }
   ],
   "source": [
    "\n",
    "pandas_MexicoCasesPM = MexicoCasesPM.select(\"*\").toPandas()\n",
    "pandas_MexicoCasesPM['total_cases'].plot()\n",
    "pandas_MexicoDeathPM = MexicoDeathPM.select(\"*\").toPandas()\n",
    "pandas_MexicoDeathPM['total_deaths'].plot()\n"
   ]
  },
  {
   "cell_type": "code",
   "execution_count": 16,
   "metadata": {},
   "outputs": [
    {
     "data": {
      "text/plain": [
       "<matplotlib.axes._subplots.AxesSubplot at 0x7f5b61a91850>"
      ]
     },
     "execution_count": 16,
     "metadata": {},
     "output_type": "execute_result"
    },
    {
     "data": {
      "image/png": "[encoded data removed]",
      "text/plain": [
       "<Figure size 432x288 with 1 Axes>"
      ]
     },
     "metadata": {
      "needs_background": "light"
     },
     "output_type": "display_data"
    }
   ],
   "source": [
    "\n",
    "pandas_DenmarkCasesPM = DenmarkCasesPM.select(\"*\").toPandas()\n",
    "pandas_DenmarkCasesPM['total_cases'].plot()\n",
    "pandas_DenmarkDeathPM = DenmarkDeathPM.select(\"*\").toPandas()\n",
    "pandas_DenmarkDeathPM['total_deaths'].plot()"
   ]
  },
  {
   "cell_type": "code",
   "execution_count": 17,
   "metadata": {},
   "outputs": [
    {
     "data": {
      "text/plain": [
       "<matplotlib.axes._subplots.AxesSubplot at 0x7f5b5c1adad0>"
      ]
     },
     "execution_count": 17,
     "metadata": {},
     "output_type": "execute_result"
    },
    {
     "data": {
      "image/png": "[encoded data removed]",
      "text/plain": [
       "<Figure size 432x288 with 1 Axes>"
      ]
     },
     "metadata": {
      "needs_background": "light"
     },
     "output_type": "display_data"
    }
   ],
   "source": [
    "\n",
    "pandas_NetherlandsCasesPM = NetherlandsCasesPM.select(\"*\").toPandas()\n",
    "pandas_NetherlandsCasesPM['total_cases'].plot()\n",
    "pandas_NetherlandsDeathPM =NetherlandsDeathPM.select(\"*\").toPandas()\n",
    "pandas_NetherlandsDeathPM['total_deaths'].plot()"
   ]
  },
  {
   "cell_type": "code",
   "execution_count": 18,
   "metadata": {},
   "outputs": [
    {
     "data": {
      "text/plain": [
       "<matplotlib.axes._subplots.AxesSubplot at 0x7f5b5c14e490>"
      ]
     },
     "execution_count": 18,
     "metadata": {},
     "output_type": "execute_result"
    },
    {
     "data": {
      "image/png": "[encoded data removed]",
      "text/plain": [
       "<Figure size 432x288 with 1 Axes>"
      ]
     },
     "metadata": {
      "needs_background": "light"
     },
     "output_type": "display_data"
    }
   ],
   "source": [
    "\n",
    "pandas_IrelandCasesPM = IrelandCasesPM.select(\"*\").toPandas()\n",
    "pandas_IrelandCasesPM['total_cases'].plot()\n",
    "pandas_IrelandDeathPM =  IrelandDeathPM.select(\"*\").toPandas()\n",
    "pandas_IrelandDeathPM['total_deaths'].plot()"
   ]
  },
  {
   "cell_type": "code",
   "execution_count": null,
   "metadata": {},
   "outputs": [],
   "source": []
  }
 ],
 "metadata": {
  "kernelspec": {
   "display_name": "Python 2",
   "language": "python",
   "name": "python2"
  },
  "language_info": {
   "codemirror_mode": {
    "name": "ipython",
    "version": 2
   },
   "file_extension": ".py",
   "mimetype": "text/x-python",
   "name": "python",
   "nbconvert_exporter": "python",
   "pygments_lexer": "ipython2",
   "version": "2.7.17"
  }
 },
 "nbformat": 4,
 "nbformat_minor": 2
}
